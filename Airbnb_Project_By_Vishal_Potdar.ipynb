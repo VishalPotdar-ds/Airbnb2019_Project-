{
  "nbformat": 4,
  "nbformat_minor": 0,
  "metadata": {
    "colab": {
      "private_outputs": true,
      "provenance": [],
      "collapsed_sections": [
        "w6K7xa23Elo4",
        "gIfDvo9L0UH2"
      ],
      "gpuType": "T4",
      "include_colab_link": true
    },
    "kernelspec": {
      "name": "python3",
      "display_name": "Python 3"
    },
    "language_info": {
      "name": "python"
    },
    "accelerator": "GPU",
    "gpuClass": "standard"
  },
  "cells": [
    {
      "cell_type": "markdown",
      "metadata": {
        "id": "view-in-github",
        "colab_type": "text"
      },
      "source": [
        "<a href=\"https://colab.research.google.com/github/VishalPotdar-ds/Airbnb2019_Project-/blob/main/Airbnb_Project_By_Vishal_Potdar.ipynb\" target=\"_parent\"><img src=\"https://colab.research.google.com/assets/colab-badge.svg\" alt=\"Open In Colab\"/></a>"
      ]
    },
    {
      "cell_type": "markdown",
      "source": [
        "# **Project Name**    - **AirBnb Booking Analysis**\n",
        "\n"
      ],
      "metadata": {
        "id": "vncDsAP0Gaoa"
      }
    },
    {
      "cell_type": "markdown",
      "source": [
        "##### **Project Type**    - EDA\n",
        "##### **Contribution**    - Individual\n",
        "##### **Team Member 1 -**  Vishal Mahadev Potdar\n"
      ],
      "metadata": {
        "id": "beRrZCGUAJYm"
      }
    },
    {
      "cell_type": "markdown",
      "source": [
        "# **Project Summary -**"
      ],
      "metadata": {
        "id": "FJNUwmbgGyua"
      }
    },
    {
      "cell_type": "markdown",
      "source": [
        "Airbnb is an online marketplace that connects people who want to rent out their homes with people who are looking for accommodations in that locale. It currently covers more than 100,000 cities and 220 countries worldwide. For hosts, it's a way to earn money while protecting their property from potential damage. However, for guests, it's a risky venture that they should avoid.\n",
        "\n",
        "For this project we are analyzing Airbnb’s New York City(NYC) data of 2019. NYC is not only the most famous city in the world but also top global destination for visitors drawn to its museums, entertainment, restaurants and commerce. According to the Office of New York State Comptroller, NYC hosted 66.6 million visitors in 2019.\n",
        "\n",
        "Data analysis on thousands of listings provided through Airbnb is a crucial factor for the company. Our main objective is to find out the key metrics that influence the listing of properties on the platform. For this, we will explore and visualize the dataset from Airbnb in NYC using basic exploratory data analysis (EDA) techniques. We have found out the distribution of every Airbnb listing based on their location, including their price range, room type, listing name, and other related factors. We have analyzed this dataset from different angles and have come up with interesting insights. This can help in making strategic data-driven decisions by the marketing team, finance team and technical team of Airbnb."
      ],
      "metadata": {
        "id": "F6v_1wHtG2nS"
      }
    },
    {
      "cell_type": "markdown",
      "source": [
        "![_109556954_airbnb.png.webp](data:image/webp;base64,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)"
      ],
      "metadata": {
        "id": "pQTKAjqoSvzB"
      }
    },
    {
      "cell_type": "markdown",
      "source": [
        "# **GitHub Link -**"
      ],
      "metadata": {
        "id": "w6K7xa23Elo4"
      }
    },
    {
      "cell_type": "markdown",
      "source": [
        "Provide your GitHub Link here."
      ],
      "metadata": {
        "id": "h1o69JH3Eqqn"
      }
    },
    {
      "cell_type": "markdown",
      "source": [],
      "metadata": {
        "id": "LgtMCaZ4R52r"
      }
    },
    {
      "cell_type": "markdown",
      "source": [
        "1.   Well-structured, formatted, and commented code is required.\n",
        "2.   Exception Handling, Production Grade Code & Deployment Ready Code will be a plus. Those students will be awarded some additional credits.\n",
        "     \n",
        "     The additional credits will have advantages over other students during Star Student selection.\n",
        "       \n",
        "             [ Note: - Deployment Ready Code is defined as, the whole .ipynb notebook should be executable in one go\n",
        "                       without a single error logged. ]\n",
        "\n",
        "3.   Each and every logic should have proper comments.\n",
        "4. You may add as many number of charts you want. Make Sure for each and every chart the following format should be answered.\n",
        "        \n",
        "\n",
        "```\n",
        "# Chart visualization code\n",
        "```\n",
        "            \n",
        "\n",
        "*   Why did you pick the specific chart?\n",
        "*   What is/are the insight(s) found from the chart?\n",
        "* Will the gained insights help creating a positive business impact?\n",
        "Are there any insights that lead to negative growth? Justify with specific reason.\n",
        "\n",
        "5. You have to create at least 20 logical & meaningful charts having important insights.\n",
        "\n",
        "\n",
        "[ Hints : - Do the Vizualization in  a structured way while following \"UBM\" Rule.\n",
        "\n",
        "U - Univariate Analysis,\n",
        "\n",
        "B - Bivariate Analysis (Numerical - Categorical, Numerical - Numerical, Categorical - Categorical)\n",
        "\n",
        "M - Multivariate Analysis\n",
        " ]\n",
        "\n",
        "\n",
        "\n"
      ],
      "metadata": {
        "id": "ZrxVaUj-hHfC"
      }
    },
    {
      "cell_type": "markdown",
      "source": [
        "# ***Let's Begin !***"
      ],
      "metadata": {
        "id": "O_i_v8NEhb9l"
      }
    },
    {
      "cell_type": "markdown",
      "source": [
        "## ***Data Analysis***\n"
      ],
      "metadata": {
        "id": "HhfV-JJviCcP"
      }
    },
    {
      "cell_type": "markdown",
      "source": [
        "### Import Libraries"
      ],
      "metadata": {
        "id": "Y3lxredqlCYt"
      }
    },
    {
      "cell_type": "code",
      "source": [
        "# Import Libraries\n",
        "import pandas as pd\n",
        "import numpy as np\n",
        "import matplotlib.pyplot as plt\n",
        "import seaborn as sns"
      ],
      "metadata": {
        "id": "M8Vqi-pPk-HR"
      },
      "execution_count": null,
      "outputs": []
    },
    {
      "cell_type": "markdown",
      "source": [
        "### Dataset Loading"
      ],
      "metadata": {
        "id": "3RnN4peoiCZX"
      }
    },
    {
      "cell_type": "code",
      "source": [
        "from google.colab import drive\n",
        "drive.mount('/content/drive')"
      ],
      "metadata": {
        "id": "9_rONXUC6Ujx"
      },
      "execution_count": null,
      "outputs": []
    },
    {
      "cell_type": "code",
      "source": [
        "df=pd.read_csv('/content/drive/MyDrive/Airbnb/Airbnb NYC 2019.csv')\n"
      ],
      "metadata": {
        "id": "AWqVVMDp61yY"
      },
      "execution_count": null,
      "outputs": []
    },
    {
      "cell_type": "markdown",
      "source": [
        "### Dataset First View"
      ],
      "metadata": {
        "id": "x71ZqKXriCWQ"
      }
    },
    {
      "cell_type": "code",
      "source": [
        "# Dataset First\n",
        "df"
      ],
      "metadata": {
        "id": "LWNFOSvLl09H"
      },
      "execution_count": null,
      "outputs": []
    },
    {
      "cell_type": "code",
      "source": [
        "df.head()"
      ],
      "metadata": {
        "id": "zbDA0gEd7jw9"
      },
      "execution_count": null,
      "outputs": []
    },
    {
      "cell_type": "code",
      "source": [
        "df.tail()"
      ],
      "metadata": {
        "id": "zxRkJJ6p7wFh"
      },
      "execution_count": null,
      "outputs": []
    },
    {
      "cell_type": "markdown",
      "source": [
        "### Dataset Rows & Columns count"
      ],
      "metadata": {
        "id": "7hBIi_osiCS2"
      }
    },
    {
      "cell_type": "code",
      "source": [
        "# Dataset Rows & Columns count\n",
        "df.shape"
      ],
      "metadata": {
        "id": "Kllu7SJgmLij"
      },
      "execution_count": null,
      "outputs": []
    },
    {
      "cell_type": "markdown",
      "source": [
        "### Dataset Information"
      ],
      "metadata": {
        "id": "JlHwYmJAmNHm"
      }
    },
    {
      "cell_type": "code",
      "source": [
        "# Dataset Info\n",
        "df.info()"
      ],
      "metadata": {
        "id": "e9hRXRi6meOf"
      },
      "execution_count": null,
      "outputs": []
    },
    {
      "cell_type": "markdown",
      "source": [
        "**Data Cleaning:**\n",
        "\n",
        "Dropping duplicates.\n",
        "\n",
        "Cleaning individual columns.\n",
        "\n",
        "Remove the Null values from the dataset\n",
        "Some Transformations"
      ],
      "metadata": {
        "id": "X08Roxuix8Xa"
      }
    },
    {
      "cell_type": "markdown",
      "source": [
        "#### Duplicate Values"
      ],
      "metadata": {
        "id": "35m5QtbWiB9F"
      }
    },
    {
      "cell_type": "code",
      "source": [
        "# Dataset Duplicate Value Count\n",
        "df.duplicated().sum()\n",
        "df.drop_duplicates(inplace=True)\n",
        "df.info()"
      ],
      "metadata": {
        "id": "1sLdpKYkmox0"
      },
      "execution_count": null,
      "outputs": []
    },
    {
      "cell_type": "markdown",
      "source": [
        "#### Missing Values/Null Values"
      ],
      "metadata": {
        "id": "PoPl-ycgm1ru"
      }
    },
    {
      "cell_type": "code",
      "source": [
        "# Missing Values/Null Values Count\n",
        "null_df=df.dropna()\n",
        "null_df.info()"
      ],
      "metadata": {
        "id": "GgHWkxvamxVg"
      },
      "execution_count": null,
      "outputs": []
    },
    {
      "cell_type": "code",
      "source": [
        "# Dataset Columns\n",
        "df.columns"
      ],
      "metadata": {
        "id": "j7xfkqrt5Ag5"
      },
      "execution_count": null,
      "outputs": []
    },
    {
      "cell_type": "code",
      "source": [
        "# Dataset Describe\n",
        "df.describe()"
      ],
      "metadata": {
        "id": "DnOaZdaE5Q5t"
      },
      "execution_count": null,
      "outputs": []
    },
    {
      "cell_type": "markdown",
      "source": [
        "# Data Visualization"
      ],
      "metadata": {
        "id": "GF8Ens_Soomf"
      }
    },
    {
      "cell_type": "markdown",
      "source": [
        "Q. How Many Types Of Rooms Available with number of rooms?\n",
        "\n",
        "\n"
      ],
      "metadata": {
        "id": "WHCDebX-On3u"
      }
    },
    {
      "cell_type": "code",
      "source": [
        "# Chart - 1 visualization code\n",
        "\n",
        "room_types=df.room_type.unique()\n",
        "print(room_types)\n",
        "numbers_room_types=dict(df.room_type.value_counts())\n",
        "print(numbers_room_types)\n",
        "\n",
        "\n",
        "room_types=list(numbers_room_types.keys())\n",
        "total_rooms=list(numbers_room_types.values())\n",
        "colors=('orange','violet','green')\n",
        "plt.pie(total_rooms, labels=room_types, colors=colors)\n",
        "plt.title('Availabe Rooms With Its Types')\n",
        "plt.show()"
      ],
      "metadata": {
        "id": "7v_ESjsspbW7"
      },
      "execution_count": null,
      "outputs": []
    },
    {
      "cell_type": "markdown",
      "source": [
        " Q. What is the average preferred price by customers according to the location?"
      ],
      "metadata": {
        "id": "KSlN3yHqYklG"
      }
    },
    {
      "cell_type": "code",
      "source": [
        "avg_pre_pri=df.groupby(['neighbourhood_group','room_type'], as_index=False)['price'].mean().rename(columns={'neighbourhood_group':'Location','price':'Average Price'})\n",
        "avg_pre_pri"
      ],
      "metadata": {
        "id": "R4YgtaqtYklH"
      },
      "execution_count": null,
      "outputs": []
    },
    {
      "cell_type": "markdown",
      "source": [
        "Q. Unstack the group by information for plot the graph"
      ],
      "metadata": {
        "id": "EM7whBJCYoAo"
      }
    },
    {
      "cell_type": "code",
      "source": [
        "\n",
        "avg_pre_pri=df.groupby(['neighbourhood_group','room_type'])['price'].mean().unstack()\n",
        "avg_pre_pri"
      ],
      "metadata": {
        "id": "t6GMdE67YoAp"
      },
      "execution_count": null,
      "outputs": []
    },
    {
      "cell_type": "markdown",
      "source": [
        "\n",
        "Q. Graph of average price of property according to location"
      ],
      "metadata": {
        "id": "4Of9eVA-YrdM"
      }
    },
    {
      "cell_type": "code",
      "source": [
        "\n",
        "avg_pre_pri.plot.bar()"
      ],
      "metadata": {
        "id": "irlUoxc8YrdO"
      },
      "execution_count": null,
      "outputs": []
    },
    {
      "cell_type": "markdown",
      "source": [
        "Q. No. of active host per location (Where most of the host focused to own property?"
      ],
      "metadata": {
        "id": "bamQiAODYuh1"
      }
    },
    {
      "cell_type": "code",
      "source": [
        "df.columns"
      ],
      "metadata": {
        "id": "EWziUdifXF_J"
      },
      "execution_count": null,
      "outputs": []
    },
    {
      "cell_type": "code",
      "source": [
        "host_per_loc=df.groupby('neighbourhood_group', as_index=False)['host_id'].count().sort_values(['host_id'], ascending=False).rename(columns={'neighbourhood_group':'Location','host_id':'Host'})\n",
        "host_per_loc"
      ],
      "metadata": {
        "id": "TIJwrbroYuh3"
      },
      "execution_count": null,
      "outputs": []
    },
    {
      "cell_type": "markdown",
      "source": [
        "We can use this code also..."
      ],
      "metadata": {
        "id": "Lpxk3iaMcwkZ"
      }
    },
    {
      "cell_type": "code",
      "source": [
        "host_per_loc=df.groupby('neighbourhood_group')['host_id'].count()\n",
        "host_per_loc"
      ],
      "metadata": {
        "id": "0NTgBO0FcIbr"
      },
      "execution_count": null,
      "outputs": []
    },
    {
      "cell_type": "code",
      "source": [
        "plt.plot(host_per_loc)\n",
        "plt.xlabel('No.of Host')\n",
        "plt.ylabel('location')\n",
        "plt.title('No.Of Host as per Location')\n",
        "plt.show"
      ],
      "metadata": {
        "id": "o6mp_oTWdfqB"
      },
      "execution_count": null,
      "outputs": []
    },
    {
      "cell_type": "code",
      "source": [
        "df.describe()"
      ],
      "metadata": {
        "id": "kuRf4wtuphqN"
      },
      "execution_count": null,
      "outputs": []
    },
    {
      "cell_type": "markdown",
      "source": [
        "**Points to be noted:**\n",
        "\n",
        "Here we can see that there is minimum price 0$.We have to fix it anyway because Airbnb is not provide free stay in any hotel.\n",
        "Solution: For that we check where the price is 0. We create one funtion in which as per minimum nights the price will be set as per formula [Refer below cells for more detail]\n",
        "\n",
        "There are some entries in dataset in which minimum nights = 1 but it's respective price is 0\n",
        "Solution: We replace the price value with the mean value of price which amount is less than 100$. [Refer below cells for more detail]"
      ],
      "metadata": {
        "id": "QXYlt3KtOlMH"
      }
    },
    {
      "cell_type": "code",
      "source": [
        "#airbnb_df[airbnb_df['minimum_nights'] ==1].sort_values(['price', 'minimum_nights'], ascending=[True, True])\n",
        "df [ df['minimum_nights'] ==1 ].sort_values(['price','minimum_nights'], ascending=[True, True])"
      ],
      "metadata": {
        "id": "A5hYguAyOZ-Q"
      },
      "execution_count": null,
      "outputs": []
    },
    {
      "cell_type": "code",
      "source": [
        "\n",
        "#Get the number of values which price is less than 100$\n",
        "df.loc[df['price'] <100,'price'].count()"
      ],
      "metadata": {
        "id": "WaXKmtqhRh9J"
      },
      "execution_count": null,
      "outputs": []
    },
    {
      "cell_type": "code",
      "source": [
        "#Make a copy of original dataframe to perform additional operation for get the desire result\n",
        "price_df=df.copy()"
      ],
      "metadata": {
        "id": "IZz6vvPRRznV"
      },
      "execution_count": null,
      "outputs": []
    },
    {
      "cell_type": "code",
      "source": [
        "#Find the mean value of price which value is less than 100$\n",
        "round(df.loc[df['price']<100,'price'].mean())"
      ],
      "metadata": {
        "id": "klCOW9GKSFzG"
      },
      "execution_count": null,
      "outputs": []
    },
    {
      "cell_type": "code",
      "source": [
        "#Change the value of price where minimum night = 1 and price of their property is less than 50$\n",
        "#airbnb_price_df['price'] = np.where(\n",
        "price_df['price']=np.where(\n",
        "(price_df['price']<= 50) & (price_df['minimum_nights']==1),\n",
        "round(df.loc[df['price']<100,'price'].mean()),\n",
        "price_df['price'])\n"
      ],
      "metadata": {
        "id": "BVThhbDXTdfI"
      },
      "execution_count": null,
      "outputs": []
    },
    {
      "cell_type": "code",
      "source": [
        "\n",
        "#still 8 rows have amount = 0$\n",
        "price_df[price_df['price']==0].count()"
      ],
      "metadata": {
        "id": "LDhieh3kgBOA"
      },
      "execution_count": null,
      "outputs": []
    },
    {
      "cell_type": "code",
      "source": [
        "#Find the observations where price\n",
        "price_df[price_df['price']==0]"
      ],
      "metadata": {
        "id": "asSRDLaMeaHZ"
      },
      "execution_count": null,
      "outputs": []
    },
    {
      "cell_type": "code",
      "source": [
        "#Function that gives a new price according to minimum night\n",
        "\n",
        "def price_calculator(min_night):\n",
        "  '''Get the price based on the minimum night you are given'''\n",
        "  mean_price= round(df.loc[df['price']<100,'price'].mean())\n",
        "  new_price=mean_price*min_night\n",
        "\n",
        "  return new_price"
      ],
      "metadata": {
        "id": "-GHnMIfzedas"
      },
      "execution_count": null,
      "outputs": []
    },
    {
      "cell_type": "code",
      "source": [
        "#Replace the value of price according to minimum night where price = 0$\n",
        "price_df['price']=np.where(\n",
        " (price_df['price']==0), price_calculator(price_df['minimum_nights']), price_df['price']\n",
        ")"
      ],
      "metadata": {
        "id": "o8Y6E418eeVS"
      },
      "execution_count": null,
      "outputs": []
    },
    {
      "cell_type": "code",
      "source": [
        "#our new dataset\n",
        "price_df.describe()"
      ],
      "metadata": {
        "id": "mXaP4AgpenRE"
      },
      "execution_count": null,
      "outputs": []
    },
    {
      "cell_type": "markdown",
      "source": [
        "Q. Where the customer pays the highest and lowest rent according to location?"
      ],
      "metadata": {
        "id": "PIIx-8_IphqN"
      }
    },
    {
      "cell_type": "code",
      "source": [
        "\n",
        "#Get the highest rent according to location\n",
        "max_price_df=price_df.groupby('neighbourhood_group',as_index=False)['price'].max().sort_values(['price'],ascending=False)\n",
        "max_price_df"
      ],
      "metadata": {
        "id": "lqAIGUfyphqO"
      },
      "execution_count": null,
      "outputs": []
    },
    {
      "cell_type": "code",
      "source": [
        "#Get the lowest rent according to location\n",
        "min_price_df=price_df.groupby('neighbourhood_group',as_index=False)['price'].min().sort_values(['price'],ascending=True)\n",
        "min_price_df"
      ],
      "metadata": {
        "id": "1Lbtzp2hh0hL"
      },
      "execution_count": null,
      "outputs": []
    },
    {
      "cell_type": "code",
      "source": [
        "\n",
        "#Get the combine dataframe of minimum and maximum price according to location\n",
        "merge_price_df=pd.merge(max_price_df,min_price_df, on='neighbourhood_group')\n",
        "merge_price_df"
      ],
      "metadata": {
        "id": "cUCBYfe7iX2n"
      },
      "execution_count": null,
      "outputs": []
    },
    {
      "cell_type": "code",
      "source": [
        "#renaming column names\n",
        "merge_price_df.rename(columns ={'price_x':'Max_Price' ,'price_y':'Min_Price','neighbourhood_group':'Location'},inplace=True)\n",
        "merge_price_df"
      ],
      "metadata": {
        "id": "TdPTWpAVphqO"
      },
      "execution_count": null,
      "outputs": []
    },
    {
      "cell_type": "code",
      "source": [
        "#Create a copy of merge price dataframe\n",
        "merge_price_df_copy=merge_price_df.copy()"
      ],
      "metadata": {
        "id": "ZHtYRycKkCfQ"
      },
      "execution_count": null,
      "outputs": []
    },
    {
      "cell_type": "code",
      "source": [
        "#Create a function for log transformation of maximum price and minimum price\n",
        "def log_values(values):\n",
        "  '''This function takes a price value as a input and give it's log values'''\n",
        "  new_max_price = np.log2(values)\n",
        "\n",
        "  return new_max_price\n",
        "\n"
      ],
      "metadata": {
        "id": "lovBAuVmkGzO"
      },
      "execution_count": null,
      "outputs": []
    },
    {
      "cell_type": "code",
      "source": [
        "#Apply above function on merge price dataframe\n",
        "merge_price_df_copy['Max_Price'] = merge_price_df_copy.apply(lambda x: log_values(x['Max_Price']), axis=1)\n",
        "merge_price_df_copy['Min_Price'] = merge_price_df_copy.apply(lambda x: log_values(x['Min_Price']), axis=1)\n"
      ],
      "metadata": {
        "id": "hKpDTbB4ku4Q"
      },
      "execution_count": null,
      "outputs": []
    },
    {
      "cell_type": "code",
      "source": [
        "merge_price_df_copy"
      ],
      "metadata": {
        "id": "6HIxpTcflJ3f"
      },
      "execution_count": null,
      "outputs": []
    },
    {
      "cell_type": "code",
      "source": [
        "merge_price_df_copy.plot(x=\"Location\",y=[\"Max_Price\",\"Min_Price\"],kind='bar')\n",
        "plt.title('Maximum & Minimum Price According To Location')"
      ],
      "metadata": {
        "id": "0DNmZrgclgRB"
      },
      "execution_count": null,
      "outputs": []
    },
    {
      "cell_type": "code",
      "source": [
        "price_df.columns"
      ],
      "metadata": {
        "id": "rd3wsHnQoSdz"
      },
      "execution_count": null,
      "outputs": []
    },
    {
      "cell_type": "markdown",
      "source": [
        "Q. Most Popular/demanded host of Airbnb in New york"
      ],
      "metadata": {
        "id": "YJ55k-q6phqO"
      }
    },
    {
      "cell_type": "code",
      "source": [
        "#Get the host based on number of reviews\n",
        "host_df=price_df.groupby(['host_id','host_name'],as_index=False)['number_of_reviews'].sum().sort_values(['number_of_reviews'],ascending=False)\n",
        "host_df"
      ],
      "metadata": {
        "id": "B2aS4O1ophqO"
      },
      "execution_count": null,
      "outputs": []
    },
    {
      "cell_type": "code",
      "source": [
        "#Get the host based on availability in a year\n",
        "host_available_df=price_df.groupby(['host_id','host_name'],as_index=False)['availability_365'].mean().sort_values(['availability_365'],ascending=True)\n",
        "host_available_df"
      ],
      "metadata": {
        "id": "Xg-D38hXo04w"
      },
      "execution_count": null,
      "outputs": []
    },
    {
      "cell_type": "code",
      "source": [
        "\n",
        "#Merge two dataframe based on number of reviews and availability in a year\n",
        "popular_host_df=pd.merge(host_df,host_available_df,on=['host_id','host_name']).sort_values(['availability_365','number_of_reviews'],ascending=[True,False])\n",
        "popular_host_df"
      ],
      "metadata": {
        "id": "TDk-1kXyp86Z"
      },
      "execution_count": null,
      "outputs": []
    },
    {
      "cell_type": "code",
      "source": [
        "\n",
        "#Most popular top 5 host in new york\n",
        "popular_host_df.head(5)"
      ],
      "metadata": {
        "id": "-bBhjy5WtTVW"
      },
      "execution_count": null,
      "outputs": []
    },
    {
      "cell_type": "code",
      "source": [
        "popular_host_df.plot.scatter(x='number_of_reviews',y='availability_365',xlim=(100,1000),ylim=(10,380))\n",
        "plt.ylabel(\"Available in year\")\n",
        "plt.xlabel(\"number of reviews\")"
      ],
      "metadata": {
        "id": "av78O9Mftzgs"
      },
      "execution_count": null,
      "outputs": []
    },
    {
      "cell_type": "markdown",
      "source": [
        "Q. Finding Top 25 most used words from listing names"
      ],
      "metadata": {
        "id": "YDZ7QYr2iNgQ"
      }
    },
    {
      "cell_type": "code",
      "source": [
        "#Creting empty list to store name strings\n",
        "names=[]\n",
        "#Getting name string from 'name' column and appending it to the empty list\n",
        "for name in df.name:\n",
        "  names.append(name)\n",
        "\n",
        "#Setting a function to split name strings into seperate words\n",
        "def split_name(name):\n",
        "  ns=str(name).split()\n",
        "  return ns\n",
        "\n",
        "#Creating empty list to store the count of words\n",
        "names_count = []\n",
        "\n",
        "#Getting name string to append it to the names_count list\n",
        "for n in names:\n",
        "  for word in split_name(n):\n",
        "    word=word.lower()\n",
        "    names_count.append(word)\n",
        "\n"
      ],
      "metadata": {
        "id": "_iKaGG20hjKz"
      },
      "execution_count": null,
      "outputs": []
    },
    {
      "cell_type": "code",
      "source": [
        "#Importing 'counter' library to count and generate raw data and count top 25 most used words\n",
        "from collections import Counter\n",
        "\n",
        "# Counting most common words\n",
        "count_words = Counter(names_count).most_common()\n",
        "count_words[:25]\n",
        "\n"
      ],
      "metadata": {
        "id": "ssReJitKkW8B"
      },
      "execution_count": null,
      "outputs": []
    },
    {
      "cell_type": "code",
      "source": [
        "# Cleaning the List by removing prepositions\n",
        "items_to_remove = {('in', 16733), ('the', 3869), ('to', 3827), ('of', 2993), ('-', 2272), ('a', 1909)}\n",
        "top_25_cleaned = [e for e in count_words if e not in items_to_remove]\n",
        "top_25 = top_25_cleaned[:25]\n",
        "top_25"
      ],
      "metadata": {
        "id": "H-jPzV-zkwQ5"
      },
      "execution_count": null,
      "outputs": []
    },
    {
      "cell_type": "code",
      "source": [
        "word_count=pd.DataFrame(top_25)\n",
        "word_count.rename(columns={0:'Words',1:'Counts'},inplace=True)\n",
        "word_count"
      ],
      "metadata": {
        "id": "tY1CmrP6k-lb"
      },
      "execution_count": null,
      "outputs": []
    },
    {
      "cell_type": "code",
      "source": [
        "\n",
        "count_viz=sns.barplot(x='Words',y='Counts',data=word_count)\n",
        "#Adjusting Bar labels\n",
        "count_viz.set_xticklabels(count_viz.get_xticklabels(),rotation = 90, weight = 'bold', size = '15')\n",
        "count_viz.set_title('Top 25 Used Words for Listing Names')\n"
      ],
      "metadata": {
        "id": "MSIIf7v1oV7K"
      },
      "execution_count": null,
      "outputs": []
    },
    {
      "cell_type": "markdown",
      "source": [
        "Q. From the chart above, we see the top 25 words used in the listing name. We can use the word cloud visualization method to help us better understand the chart.\n"
      ],
      "metadata": {
        "id": "H3341H07vH67"
      }
    },
    {
      "cell_type": "code",
      "source": [
        "#Importing WordCloud library\n",
        "from wordcloud import WordCloud, ImageColorGenerator\n",
        "text = ' '.join(str(n) for n in word_count.Words)\n",
        "wordcloud=WordCloud(max_font_size=80, colormap='hsv', width=400, height=150).generate(text)\n",
        "plt.imshow(wordcloud,interpolation='bilinear')\n",
        "plt.axis('off')\n",
        "plt.show()"
      ],
      "metadata": {
        "id": "gofl6ZoavNBM"
      },
      "execution_count": null,
      "outputs": []
    },
    {
      "cell_type": "markdown",
      "source": [
        "Q. Finding Top 10 Listing Counts"
      ],
      "metadata": {
        "id": "zv1FxF8PxF6t"
      }
    },
    {
      "cell_type": "code",
      "source": [
        "df['host_id'].count()"
      ],
      "metadata": {
        "id": "Ba7u58jfxFSq"
      },
      "execution_count": null,
      "outputs": []
    },
    {
      "cell_type": "code",
      "source": [
        "#Creating DataFrame\n",
        "count_host_id = list(df['host_id'].value_counts())\n",
        "host_id = list(df.host_id)\n",
        "listing_count= list(zip(host_id,count_host_id))\n",
        "count_host_id_df= pd.DataFrame(listing_count)\n",
        "count_host_id_df.rename(columns={0:'Host_Id',1:'Counts'},inplace=True)\n",
        "\n",
        "#Storing top 10 hosts with most listings\n",
        "top_host_id = count_host_id_df.head(10)\n",
        "top_host_id\n",
        ""
      ],
      "metadata": {
        "id": "Ya8aNfYwxUM3"
      },
      "execution_count": null,
      "outputs": []
    },
    {
      "cell_type": "code",
      "source": [
        "#Plotting the Chart\n",
        "viz_bar = sns.barplot(x= 'Host_Id', y= 'Counts',  data=top_host_id)\n",
        "viz_bar.set_title('Hosts with most listings in New York')\n",
        "viz_bar.set_xlabel('Host IDs')\n",
        "viz_bar.set_ylabel('Count of listings')\n",
        ""
      ],
      "metadata": {
        "id": "S2B3HE_yx9ny"
      },
      "execution_count": null,
      "outputs": []
    },
    {
      "cell_type": "markdown",
      "source": [
        "Q. Find total numbers of nights spend per location"
      ],
      "metadata": {
        "id": "6IGQUN_ozOE-"
      }
    },
    {
      "cell_type": "code",
      "source": [
        "#  find the maximum(minimum nights) spending by customer across different neighourhood group\n",
        "total_nights=df.groupby('neighbourhood_group')['minimum_nights'].sum().reset_index()\n",
        "final_nights=total_nights.sort_values('minimum_nights',ascending=True)\n",
        "final_nights.head()"
      ],
      "metadata": {
        "id": "yqa4T7k1y1_t"
      },
      "execution_count": null,
      "outputs": []
    },
    {
      "cell_type": "code",
      "source": [
        "sns.barplot(x='neighbourhood_group',y='minimum_nights',data = final_nights)\n",
        "plt.title('find total no. nights spend per location')"
      ],
      "metadata": {
        "id": "10R-YCO_zWw7"
      },
      "execution_count": null,
      "outputs": []
    },
    {
      "cell_type": "markdown",
      "source": [
        "## **5. Solution to Business Objective**"
      ],
      "metadata": {
        "id": "JcMwzZxoAimU"
      }
    },
    {
      "cell_type": "markdown",
      "source": [
        "#### What do you suggest the client to achieve Business Objective ?"
      ],
      "metadata": {
        "id": "8G2x9gOozGDZ"
      }
    },
    {
      "cell_type": "markdown",
      "source": [
        "Set Clear Business Goals: Define specific, measurable, attainable, relevant, and time-bound (SMART) goals for your Airbnb company. These could include targets for occupancy rates, revenue growth, customer satisfaction ratings, or expansion into new markets.\n",
        "\n",
        "Develop a Comprehensive Business Plan: Create a detailed business plan that outlines your target market, competitive analysis, marketing strategies, financial projections, and operational plans. This plan will serve as a roadmap for your company's growth and success.\n",
        "\n",
        "Focus on Customer Experience: Prioritize delivering exceptional customer experiences to build loyalty and positive word-of-mouth. Pay attention to every touchpoint of the guest journey, from the initial booking to check-out, and continually seek ways to exceed customer expectations.\n",
        "\n",
        "Implement Robust Technology Solutions: Leverage technology to streamline operations, enhance guest interactions, and improve overall efficiency. Invest in a user-friendly website or app for easy booking and property management, as well as customer relationship management (CRM) software to track guest interactions and preferences.\n",
        "\n",
        "Invest in Marketing and Branding: Develop a strong brand identity that resonates with your target audience and create marketing campaigns to increase visibility and attract potential guests. Utilize social media, online advertising, content marketing, and partnerships with local businesses or influencers to reach your target market effectively.\n",
        "\n",
        "Optimize Pricing and Revenue Management: Implement dynamic pricing strategies that consider market demand, seasonality, and competitor rates. Regularly analyze and adjust your pricing to maximize revenue and occupancy rates while maintaining competitiveness.\n",
        "\n",
        "Build Strong Host Relationships: Nurture positive relationships with your hosts by providing them with ongoing support, training, and resources. Encourage open communication, address their concerns, and recognize and reward exceptional host performance.\n",
        "\n",
        "Ensure Safety and Security: Prioritize the safety and security of your guests and properties. Implement safety guidelines, perform thorough background checks on guests and hosts when necessary, and maintain clear communication channels for emergencies.\n",
        "\n",
        "Embrace Sustainability: Incorporate sustainable practices into your operations, such as energy-efficient appliances, waste reduction initiatives, and partnerships with eco-conscious vendors. Promote your commitment to sustainability as a unique selling point for environmentally conscious travelers.\n",
        "\n",
        "Continuous Learning and Adaptation: Stay updated with industry trends, emerging technologies, and changing guest preferences. Continuously seek feedback from guests, hosts, and staff to identify areas for improvement and adapt your strategies accordingly."
      ],
      "metadata": {
        "id": "pASKb0qOza21"
      }
    },
    {
      "cell_type": "markdown",
      "source": [
        "Remember, each business is unique, so it's important to tailor these solutions to fit your specific goals, target market, and competitive landscape. Regularly review your progress, track key performance indicators."
      ],
      "metadata": {
        "id": "HSHU6eMc1r2E"
      }
    },
    {
      "cell_type": "markdown",
      "source": [
        "# **Conclusion**"
      ],
      "metadata": {
        "id": "gCX9965dhzqZ"
      }
    },
    {
      "cell_type": "markdown",
      "source": [
        "In conclusion, Airbnb company holds significant potential in the hospitality industry. By implementing a comprehensive set of strategies and solutions, you can position your business for success and achieve your objectives. Here are the key takeaways:\n",
        "\n",
        "Clear Business Goals: Set SMART goals that align with your vision for the company and serve as a guide for growth and success.\n",
        "\n",
        "Customer-Centric Approach: Focus on delivering exceptional customer experiences at every touchpoint to build loyalty and positive word-of-mouth.\n",
        "\n",
        "Technology Integration: Leverage technology solutions to streamline operations, enhance guest interactions, and improve overall efficiency.\n",
        "\n",
        "Effective Marketing and Branding: Develop a strong brand identity, implement marketing campaigns, and utilize various channels to increase visibility and attract potential guests.\n",
        "\n",
        "Revenue Optimization: Implement dynamic pricing strategies and revenue management techniques to maximize occupancy rates and revenue.\n",
        "\n",
        "Host Relationship Management: Build strong relationships with hosts through ongoing support, training, and recognition, fostering a mutually beneficial partnership.\n",
        "\n",
        "Safety and Security: Prioritize the safety and security of guests and properties, ensuring a secure and trustworthy environment.\n",
        "\n",
        "Sustainability Initiatives: Incorporate sustainable practices into your operations to attract eco-conscious travelers and demonstrate your commitment to the environment.\n",
        "\n",
        "Continuous Learning and Adaptation: Stay updated with industry trends, seek feedback, and adapt strategies to meet changing guest preferences and market dynamics."
      ],
      "metadata": {
        "id": "Fjb1IsQkh3yE"
      }
    },
    {
      "cell_type": "markdown",
      "source": [
        "### ***Hurrah! You have successfully completed your EDA Capstone Project !!!***"
      ],
      "metadata": {
        "id": "gIfDvo9L0UH2"
      }
    }
  ]
}